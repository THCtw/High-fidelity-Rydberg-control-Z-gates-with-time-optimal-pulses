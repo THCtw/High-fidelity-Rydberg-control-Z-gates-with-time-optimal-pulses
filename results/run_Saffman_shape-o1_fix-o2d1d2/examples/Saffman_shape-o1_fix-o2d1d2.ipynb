{
 "cells": [
  {
   "cell_type": "markdown",
   "id": "b6e065fb-52ea-4c85-9fce-d4d4f48075b5",
   "metadata": {},
   "source": [
    "# Saffman, M., et al. \"Symmetric Rydberg controlled-Z gates with adiabatic pulses.\" Physical Review A 101.6 (2020): 062309.\n",
    "\n",
    "In this simulation, we shape $\\Omega1$ and let $\\Omega2$, $\\Delta1$ and $\\Delta2$ be constants."
   ]
  },
  {
   "cell_type": "code",
   "execution_count": 1,
   "id": "5d14cdeb-10a0-4d48-92fa-acd68d306c5b",
   "metadata": {},
   "outputs": [
    {
     "name": "stdout",
     "output_type": "stream",
     "text": [
      "/home/thc/Ubuntu_data/run_Saffman_shape-o1_fix-o2d1d2\n"
     ]
    }
   ],
   "source": [
    "%cd /home/thc/Ubuntu_data/run_Saffman_shape-o1_fix-o2d1d2"
   ]
  },
  {
   "cell_type": "code",
   "execution_count": 103,
   "id": "4feb9d17-f3c4-41eb-bb68-60a74911589a",
   "metadata": {},
   "outputs": [],
   "source": [
    "from IPython.display import clear_output\n",
    "\n",
    "from qutip import *\n",
    "import math\n",
    "\n",
    "import time\n",
    "\n",
    "import numpy as np\n",
    "import matplotlib.pyplot as plt\n",
    "from IPython.display import display, clear_output\n",
    "\n",
    "from rdquantum.pulse_shape import Saffman_shape\n",
    "from rdquantum.fidelity import fidelity\n",
    "from rdquantum.optimizer.de import de\n",
    "\n",
    "%matplotlib inline"
   ]
  },
  {
   "cell_type": "markdown",
   "id": "6312f63e-8118-47ef-bec3-bbec479922c9",
   "metadata": {
    "tags": []
   },
   "source": [
    "# Physical system"
   ]
  },
  {
   "cell_type": "code",
   "execution_count": 3,
   "id": "75003d47",
   "metadata": {},
   "outputs": [],
   "source": [
    "### Hamiltonian ###\n",
    "def Hamiltonian(shape_omega1, value_omega2, value_delta1, value_delta2):\n",
    "    rho = []    # 0, 1, p, r, d\n",
    "    for i in range(5):\n",
    "        rho.append(ket2dm(basis(5,i)))\n",
    "\n",
    "    I = qeye(5)\n",
    "\n",
    "    H_omega1 = np.zeros((5,5))\n",
    "    H_omega1[2][1] = 2*np.pi / 2\n",
    "    H_omega1[1][2] = 2*np.pi / 2\n",
    "    H_omega1 = Qobj(H_omega1)\n",
    "\n",
    "    # Let Omega2, Delta1 and Delta2 be constants.\n",
    "    H_omega2 = np.zeros((5,5))\n",
    "    H_omega2[3][2] = 2*np.pi / 2 * value_omega2[0]\n",
    "    H_omega2[2][3] = 2*np.pi / 2 * value_omega2[0]\n",
    "    H_omega2 = Qobj(H_omega2)\n",
    "\n",
    "    H_delta1 = np.zeros((5,5))\n",
    "    H_delta1[2][2] = 2*np.pi * value_delta1[0]\n",
    "    H_delta1 = Qobj(H_delta1)\n",
    "    \n",
    "    value_delta = value_delta1[0] + value_delta2[0]\n",
    "    H_delta = np.zeros((5,5))\n",
    "    H_delta[3][3] = 2*np.pi * value_delta\n",
    "    H_delta = Qobj(H_delta)\n",
    "\n",
    "    B = 2*np.pi * 500           # (MHz) Strength of Rydberg states interaction\n",
    "    Brr = np.zeros((5,5))\n",
    "    Brr[3][3] = np.sqrt(B)\n",
    "    Brr = tensor(Qobj(Brr), Qobj(Brr))\n",
    "\n",
    "    H = [[tensor(H_omega1, I) + tensor(I, H_omega1), shape_omega1], \n",
    "         [tensor(H_omega2, I) + tensor(I, H_omega2), '1'], \n",
    "         [tensor(H_delta1, I) + tensor(I, H_delta1), '1'], \n",
    "         [tensor(H_delta, I) + tensor(I, H_delta), '1'],\n",
    "         [Brr, '1']]\n",
    "\n",
    "    return H\n",
    "\n",
    "\n",
    "### Pulse shape omega1(t), omega2(t) and delta1(t) ###\n",
    "def PulseShape(times, Pulses, T_gate, n_seg):\n",
    "\n",
    "    def shape_omega1(t, arg):\n",
    "        return Saffman_shape(t, Pulses['Omega1'],T_gate, n_seg)\n",
    "\n",
    "    value_omega2 = Pulses['Omega2']\n",
    "\n",
    "    value_delta1 = Pulses['Delta1']\n",
    "    \n",
    "    value_delta2 = Pulses['Delta2']\n",
    "    \n",
    "    return shape_omega1, value_omega2, value_delta1, value_delta2\n",
    "\n",
    "\n",
    "### Decay term, c_ops ###\n",
    "def Decay(gammap=1/0.155, gammar=1/540):\n",
    "    # gammap: (1/mu s) population decay rate of the Rydberg state\n",
    "    # gammar: (1/mu s) population decay rate of the P state\n",
    "    c_ops = []\n",
    "    I = qeye(5)\n",
    "\n",
    "    L0p = np.zeros((5,5))\n",
    "    L0p[0][2] = np.sqrt(1/16 * gammap)\n",
    "    c_ops.append(tensor(Qobj(L0p), I))\n",
    "    c_ops.append(tensor(I, Qobj(L0p)))\n",
    "\n",
    "    L0r = np.zeros((5,5))\n",
    "    L0r[0][3] = np.sqrt(1/32 * gammar)\n",
    "    c_ops.append(tensor(Qobj(L0r), I))\n",
    "    c_ops.append(tensor(I, Qobj(L0r)))\n",
    "\n",
    "    L1p = np.zeros((5,5))\n",
    "    L1p[1][2] = np.sqrt(1/16 * gammap)\n",
    "    c_ops.append(tensor(Qobj(L1p), I))\n",
    "    c_ops.append(tensor(I, Qobj(L1p)))\n",
    "\n",
    "    L1r = np.zeros((5,5))\n",
    "    L1r[1][3] = np.sqrt(1/32 * gammar)\n",
    "    c_ops.append(tensor(Qobj(L1r), I))\n",
    "    c_ops.append(tensor(I, Qobj(L1r)))\n",
    "\n",
    "    Ldp = np.zeros((5,5))\n",
    "    Ldp[4][2] = np.sqrt(7/8 * gammap)\n",
    "    c_ops.append(tensor(Qobj(Ldp), I))\n",
    "    c_ops.append(tensor(I, Qobj(Ldp)))\n",
    "\n",
    "    Ldr = np.zeros((5,5))\n",
    "    Ldr[4][3] = np.sqrt(7/16 * gammar)\n",
    "    c_ops.append(tensor(Qobj(Ldr), I))\n",
    "    c_ops.append(tensor(I, Qobj(Ldr)))\n",
    "\n",
    "    Lpr = np.zeros((5,5))\n",
    "    Lpr[2][3] = np.sqrt(1/2 * gammar)\n",
    "    c_ops.append(tensor(Qobj(Lpr), I))\n",
    "    c_ops.append(tensor(I, Qobj(Lpr)))\n",
    "\n",
    "    return c_ops\n",
    "\n",
    "\n",
    "### Create two qubits state as density matrix, dm(control_qubit, target_qubit) ###\n",
    "# def dm(control_qubit, target_qubit):\n",
    "#     return ket2dm( tensor(basis(5, control_qubit), basis(5, target_qubit)) )"
   ]
  },
  {
   "cell_type": "markdown",
   "id": "07ed5de3",
   "metadata": {},
   "source": [
    "# Gate Operation"
   ]
  },
  {
   "cell_type": "code",
   "execution_count": 4,
   "id": "3855cdd7",
   "metadata": {},
   "outputs": [],
   "source": [
    "# Gate operation\n",
    "def GateOp(Pulses, rho_init, targets):\n",
    "    times = np.linspace(0.0, 1, 100)\n",
    "    T_gate = 1              # (mu s) Total gate time\n",
    "    n_seg = 2*len(Omega1)   # Number of segments\n",
    "\n",
    "    shape_omega1, value_omega2, value_delta1, value_delta2 = PulseShape(times, Pulses, T_gate, n_seg)\n",
    "    H = Hamiltonian(shape_omega1, value_omega2, value_delta1, value_delta2)\n",
    "    c_ops = Decay(1/0.155, 1/540)\n",
    "    \n",
    "    results = mesolve(H, rho_init, times, c_ops, targets, options=Options(nsteps=10000))\n",
    "    return results"
   ]
  },
  {
   "cell_type": "markdown",
   "id": "8cbbba01",
   "metadata": {
    "tags": []
   },
   "source": [
    "# Outpout"
   ]
  },
  {
   "cell_type": "code",
   "execution_count": 6,
   "id": "0acc133a-15cd-4d0c-aa76-5b43c307691c",
   "metadata": {},
   "outputs": [
    {
     "name": "stdout",
     "output_type": "stream",
     "text": [
      "0.30408851404957277\n"
     ]
    }
   ],
   "source": [
    "Omega1 = [1.38, 10.30, 25.54, 42.85, 82.50, 93.35]\n",
    "Omega2 = [175]\n",
    "Delta1 = [300]\n",
    "Delta2 = [300]\n",
    "Pulses = {'Omega1': Omega1, 'Omega2': Omega2, 'Delta1': Delta1, 'Delta2': Delta2}\n",
    "PulsesRange = {'Omega1': [0, 100], 'Omega2': [0, 200], 'Delta1': [300, 450], 'Delta2': [-450, -300]}\n",
    "\n",
    "Had = np.zeros((5,5))\n",
    "Had[0][0] = 1\n",
    "Had[0][1] = 1\n",
    "Had[1][0] = 1\n",
    "Had[1][1] = -1\n",
    "\n",
    "I = qeye(5)\n",
    "Had = Qobj(Had/np.sqrt(2))\n",
    "\n",
    "ket00 = tensor(basis(5,0), basis(5,0))\n",
    "ket01 = tensor(basis(5,0), basis(5,1))\n",
    "ket10 = tensor(basis(5,1), basis(5,0))\n",
    "ket11 = tensor(basis(5,1), basis(5,1))\n",
    "\n",
    "# Target Bell state, rho_bell = 1/sqrt(2) * (|01> + |10>)\n",
    "rho0101 = tensor(I, Had) * ket2dm(ket01) * tensor(I, Had)\n",
    "rho1010 = tensor(I, Had) * ket2dm(ket10) * tensor(I, Had)\n",
    "rho0110 = tensor(I, Had) * (ket10 * ket01.dag()) * tensor(I, Had)\n",
    "rho_bell = [rho0101, rho1010, rho0110]\n",
    "\n",
    "# Initial state, rhoi = |01><01|\n",
    "rhoi = tensor(Had, Had) * ket2dm(ket01) * tensor(Had, Had)\n",
    "\n",
    "bell_fidelity = fidelity(GateOp)\n",
    "print(bell_fidelity.get_fidelity(Pulses, rhoi, rho_bell))"
   ]
  },
  {
   "cell_type": "markdown",
   "id": "7c675b36",
   "metadata": {},
   "source": [
    "# Differentail Evolution"
   ]
  },
  {
   "cell_type": "code",
   "execution_count": null,
   "id": "0d83200e",
   "metadata": {
    "tags": []
   },
   "outputs": [],
   "source": [
    "K = len(Pulses)\n",
    "# diffevo = de(bell_fidelity, K, 0, 500)\n",
    "diffevo = de(bell_fidelity, rhoi, rho_bell)\n",
    "diffevo.createPopulations(Pulses, PulsesRange)\n",
    "diffevo.start(itr=10000, batch=10)"
   ]
  },
  {
   "cell_type": "code",
   "execution_count": null,
   "id": "4ab7d3ff-1591-49df-81a7-8f5a0c9ea49c",
   "metadata": {
    "tags": []
   },
   "outputs": [],
   "source": [
    "fig, ax1 = plt.subplots(figsize=(12,8))\n",
    "ax1.plot(np.log(diffevo.data_fidelity), label=\"Fi\")\n",
    "# ax1.plot(diffevo.data_fidelity, label=\"Fi\")\n",
    "\n",
    "ax1.set_xlabel(\"test time\", fontsize=20) \n",
    "ax1.set_ylabel(\"Fidelity(Log)\", fontsize=20)\n",
    "\n",
    "plt.ylim([-0.002478, -0.0024775])\n",
    "plt.xlim([80000, 100000])\n",
    "# plt.ylim([0.99754, 0.9976])\n",
    "\n",
    "fig.legend(bbox_to_anchor=(.84, .68), fontsize=16)"
   ]
  },
  {
   "cell_type": "code",
   "execution_count": 9,
   "id": "0bf36272-644a-43d6-bb7a-057d33b3ee6e",
   "metadata": {},
   "outputs": [],
   "source": [
    "test = np.load(\"out.npz\", allow_pickle=True)"
   ]
  },
  {
   "cell_type": "code",
   "execution_count": 10,
   "id": "cfff74b3-3a89-4a90-a961-e8846b49f6a9",
   "metadata": {},
   "outputs": [],
   "source": [
    "testF = test['fidelity']\n",
    "testP = test['pulses']"
   ]
  },
  {
   "cell_type": "code",
   "execution_count": 14,
   "id": "8912abd4-8549-4c0f-9db6-e85a443ccca6",
   "metadata": {},
   "outputs": [
    {
     "name": "stdout",
     "output_type": "stream",
     "text": [
      "100000\n"
     ]
    }
   ],
   "source": [
    "print(len(testF))"
   ]
  },
  {
   "cell_type": "code",
   "execution_count": 75,
   "id": "5bb38b74-eb97-420f-8701-e75f7b0560ee",
   "metadata": {},
   "outputs": [],
   "source": [
    "checkF = []\n",
    "checkP = []\n",
    "\n",
    "for i in range(len(testF)):\n",
    "    if testF[i] > 0.9975:\n",
    "        checkF.append(testF[i])\n",
    "        checkP.append(testP[i])"
   ]
  },
  {
   "cell_type": "code",
   "execution_count": 76,
   "id": "87e96dca-06f4-4947-a067-cd6fb01e968e",
   "metadata": {
    "tags": []
   },
   "outputs": [
    {
     "name": "stdout",
     "output_type": "stream",
     "text": [
      "44995\n"
     ]
    }
   ],
   "source": [
    "print(len(checkF))"
   ]
  },
  {
   "cell_type": "code",
   "execution_count": 77,
   "id": "c194e735-987d-47fb-bd97-53b2a2a22bfa",
   "metadata": {},
   "outputs": [],
   "source": [
    "# Pulse shape\n",
    "T_gate = 1          # (mu s) Total gate time\n",
    "n = 12   # Number of segments\n",
    "dt = T_gate/n       # (mu s) Duration of each segment\n",
    "def Pshape(t, pulse_coe):\n",
    "        ith = int( (t - dt/2) // dt )\n",
    "        ti = dt/2 + dt*ith\n",
    "        ti1 = ti + dt\n",
    "        \n",
    "        if t < dt/2 or t > (T_gate - dt/2):\n",
    "            fi = pulse_coe[0]\n",
    "            fi1 = pulse_coe[0]\n",
    "            ft = (fi + fi1)/2 \n",
    "\n",
    "        else:\n",
    "            if ith < 5:\n",
    "                ith1 = ith + 1\n",
    "                fi = pulse_coe[ith]\n",
    "                fi1 = pulse_coe[ith1]\n",
    "                ft = ( (fi + fi1)/2 + ( (fi1-fi)/2 ) * math.erf( (5/dt) * ( t - (ti + ti1)/2 ) ) )\n",
    "\n",
    "            elif ith == 5:\n",
    "                ith1 = ith\n",
    "                fi = pulse_coe[ith]\n",
    "                fi1 = pulse_coe[ith1]\n",
    "                ft = ( (fi + fi1)/2 + ( (fi1-fi)/2 ) * math.erf( (5/dt) * ( t - (ti + ti1)/2 ) ) )\n",
    "\n",
    "            elif ith > 5:\n",
    "                ith1 = ith + 1\n",
    "                fi = pulse_coe[n-ith-1]\n",
    "                fi1 = pulse_coe[n-ith1-1]\n",
    "                ft  = ( (fi + fi1)/2 + ( (fi1-fi)/2 ) * math.erf( (5/dt) * ( t - (ti + ti1)/2 ) ) )\n",
    "\n",
    "        return ft"
   ]
  },
  {
   "cell_type": "code",
   "execution_count": 119,
   "id": "f5af1ed5-6c11-4cb5-ab3c-9c2a109bf2e4",
   "metadata": {},
   "outputs": [
    {
     "name": "stdout",
     "output_type": "stream",
     "text": [
      "Index: 12849\n"
     ]
    },
    {
     "data": {
      "image/png": "[encoded data removed]",
      "text/plain": [
       "<Figure size 864x576 with 2 Axes>"
      ]
     },
     "metadata": {
      "needs_background": "light"
     },
     "output_type": "display_data"
    }
   ],
   "source": [
    "for i in range(20):\n",
    "    clear_output(wait=True)\n",
    "    index = int(np.random.rand(1)*len(checkF))\n",
    "    print(\"Index: %s\" %index)\n",
    "\n",
    "    Omega1 = checkP[index]['Omega1']\n",
    "    Omega2 = checkP[index]['Omega2'][0]\n",
    "    Delta1 = checkP[index]['Delta1'][0]\n",
    "    Delta2 = checkP[index]['Delta2'][0]\n",
    "    times = np.linspace(0.0, 1, 100)\n",
    "\n",
    "    pulse_Omega1 = []\n",
    "\n",
    "    for t in times:\n",
    "        pulse_Omega1.append( Pshape(t, Omega1))\n",
    "        # pulse_Omega2.append( Pshape(t, Omega2))\n",
    "        # delta1.append( Pshape(t, Delta1))\n",
    "\n",
    "    fig, ax1 = plt.subplots(figsize=(12,8))\n",
    "    ax1.plot(times, pulse_Omega1, label=r'$\\Omega_1$')\n",
    "    ax1.hlines(y=Omega2, xmin=0, xmax=1, label=r'$\\Omega_2$', color='r')\n",
    "\n",
    "    ax2 = ax1.twinx()\n",
    "    ax2.hlines(y=Delta1, xmin=0, xmax=1, label=r'$\\Delta_1$', color='g')\n",
    "    ax2.hlines(y=Delta2, xmin=0, xmax=1, label=r'$\\Delta_2$', color='y')\n",
    "\n",
    "    ax1.set_xlabel('Time' r'$(\\mu s)$', fontsize=20) \n",
    "    ax1.set_ylabel(r'$\\Omega / 2 \\pi$' '(MHz)', fontsize=20)\n",
    "    ax2.set_ylabel(r'$\\Delta_1 / 2 \\pi$' '(MHz)', fontsize=20)\n",
    "\n",
    "    plt.title(\"Fidelity = %.10f\" %checkF[index], fontsize=24)\n",
    "    fig.legend(bbox_to_anchor=(.84, .68), fontsize=16)\n",
    "    \n",
    "    plt.show()\n",
    "    time.sleep(0.5)"
   ]
  },
  {
   "cell_type": "code",
   "execution_count": null,
   "id": "6fefc787-192f-4af5-bdea-84591b4969a3",
   "metadata": {},
   "outputs": [],
   "source": [
    "print(Delta1)"
   ]
  },
  {
   "cell_type": "markdown",
   "id": "6b85b9e8-48b5-4274-b2f2-2a6eeaac0e3d",
   "metadata": {},
   "source": [
    "# Population evo"
   ]
  },
  {
   "cell_type": "code",
   "execution_count": null,
   "id": "a3b0514d-62e0-452a-b70d-0314ee275cc0",
   "metadata": {},
   "outputs": [],
   "source": [
    "# Target Bell state, rho_bell = 1/sqrt(2) * (|01> + |10>)\n",
    "rho1111 = tensor(I, Had) * ket2dm(ket11) * tensor(I, Had)\n",
    "rho0000 = tensor(I, Had) * ket2dm(ket00) * tensor(I, Had)\n",
    "rho1010 = tensor(I, Had) * (ket10 * ket10.dag()) * tensor(I, Had)\n",
    "rho_bell = [rho1111, rho0000, rho1010]\n",
    "\n",
    "# Initial state, rhoi = |01><01|\n",
    "rhoi = tensor(Had, Had) * ket2dm(ket11) * tensor(Had, Had)\n",
    "\n",
    "op_pulse = diffevo.op_pulse\n",
    "\n",
    "bell_fidelity = fidelity(GateOp)\n",
    "print(bell_fidelity.get_fidelity(op_pulse, rhoi, rho_bell))"
   ]
  },
  {
   "cell_type": "code",
   "execution_count": null,
   "id": "2ce87317-2c68-494e-8e91-88afa0afee60",
   "metadata": {},
   "outputs": [],
   "source": [
    "# # Target Bell state, rho_bell = 1/sqrt(2) * (|01> + |10>)\n",
    "# rho0101 = tensor(I, Had) * ket2dm(ket01) * tensor(I, Had)\n",
    "# rho1010 = tensor(I, Had) * ket2dm(ket10) * tensor(I, Had)\n",
    "# rho0110 = tensor(I, Had) * (ket10 * ket01.dag()) * tensor(I, Had)\n",
    "# rho_bell = [rho0101, rho1010, rho0110]\n",
    "\n",
    "# # Initial state, rhoi = |01><01|\n",
    "# rhoi = tensor(Had, Had) * ket2dm(ket01) * tensor(Had, Had)\n",
    "\n",
    "op_pulse = diffevo.op_pulse\n",
    "\n",
    "rho10 = ket2dm(ket10)\n",
    "rhor0 = ket2dm(tensor(basis(5,3), basis(5,0)))\n",
    "rhod0 = ket2dm(tensor(basis(5,4), basis(5,0)))\n",
    "\n",
    "test_targets = [rho10, rhor0, rhod0]\n",
    "\n",
    "result = GateOp(op_pulse, rhoi, test_targets)"
   ]
  },
  {
   "cell_type": "code",
   "execution_count": null,
   "id": "d95ae638-ddea-47c6-9aba-cbaddf18eb1b",
   "metadata": {},
   "outputs": [],
   "source": [
    "fig, ax = plt.subplots(figsize=(16,9))\n",
    "ax.plot(times, np.log10(result.expect[0])) \n",
    "ax.plot(times, np.log10(result.expect[1]))\n",
    "ax.plot(times, np.log10(result.expect[2]))\n",
    "ax.set_xlabel('Time' r'$(\\mu s)$') \n",
    "ax.set_ylabel(r'$log_10$' '(population)') \n",
    "ax.legend((\"P10\", \"Pr0\", \"Pd0\"))\n",
    "plt.show()"
   ]
  },
  {
   "cell_type": "code",
   "execution_count": null,
   "id": "85ccac77-718e-472d-ada6-f8dab033fec3",
   "metadata": {},
   "outputs": [],
   "source": []
  }
 ],
 "metadata": {
  "kernelspec": {
   "display_name": "Python 3",
   "language": "python",
   "name": "python3"
  },
  "language_info": {
   "codemirror_mode": {
    "name": "ipython",
    "version": 3
   },
   "file_extension": ".py",
   "mimetype": "text/x-python",
   "name": "python",
   "nbconvert_exporter": "python",
   "pygments_lexer": "ipython3",
   "version": "3.9.7"
  }
 },
 "nbformat": 4,
 "nbformat_minor": 5
}
