{
 "cells": [
  {
   "cell_type": "markdown",
   "id": "620fd433",
   "metadata": {},
   "source": [
    "# MS-Zang-optimize"
   ]
  },
  {
   "cell_type": "code",
   "execution_count": 1,
   "id": "60d20899",
   "metadata": {},
   "outputs": [
    {
     "name": "stdout",
     "output_type": "stream",
     "text": [
      "/Users/wangcaini/IAMS-Rydberg-atom-quantum-computing-main\n"
     ]
    }
   ],
   "source": [
    "%cd /Users/wangcaini/IAMS-Rydberg-atom-quantum-computing-main"
   ]
  },
  {
   "cell_type": "code",
   "execution_count": 2,
   "id": "4feb9d17-f3c4-41eb-bb68-60a74911589a",
   "metadata": {},
   "outputs": [],
   "source": [
    "from IPython.display import clear_output\n",
    "\n",
    "from qutip import *\n",
    "import math\n",
    "\n",
    "import numpy as np\n",
    "import matplotlib.pyplot as plt\n",
    "from IPython.display import display, clear_output\n",
    "\n",
    "from rdquantum.fidelity import fidelity\n",
    "from rdquantum.optimizer.de import de\n",
    "from rdquantum.pulse_shape import MS_pulse_shape"
   ]
  },
  {
   "cell_type": "markdown",
   "id": "6312f63e-8118-47ef-bec3-bbec479922c9",
   "metadata": {
    "tags": []
   },
   "source": [
    "\n",
    "\n",
    "# Physical system"
   ]
  },
  {
   "cell_type": "code",
   "execution_count": 3,
   "id": "75003d47",
   "metadata": {},
   "outputs": [],
   "source": [
    "### Hamiltonian ###\n",
    "def Hamiltonian(shape_omega1, omega2, delta1, delta2):\n",
    "    omega2=omega2[0]\n",
    "    delta1=delta1[0]\n",
    "    delta2=delta2[0]\n",
    "    \n",
    "    \n",
    "    rho = []    # 0, 1, p, r, d\n",
    "    for i in range(5):\n",
    "        rho.append(ket2dm(basis(5,i)))\n",
    "\n",
    "    I = qeye(5)\n",
    "    H_omega1 = np.zeros((5,5))\n",
    "    H_omega1[2][1] = 2*np.pi / 2\n",
    "    H_omega1[1][2] = 2*np.pi / 2\n",
    "    H_omega1 = Qobj(H_omega1)\n",
    "\n",
    "    H_omega2 = np.zeros((5,5))\n",
    "    H_omega2[3][2] = 2*np.pi / 2\n",
    "    H_omega2[2][3] = 2*np.pi / 2\n",
    "    H_omega2 = Qobj(omega2*H_omega2)\n",
    "\n",
    "    H_delta1 = np.zeros((5,5))\n",
    "    H_delta1[2][2] = 2*np.pi\n",
    "    H_delta1 = Qobj(delta1*H_delta1)\n",
    "    \n",
    "    H_delta2 = np.zeros((5,5))\n",
    "    H_delta2[3][3] = 2*np.pi\n",
    "    H_delta2 = Qobj(delta2*H_delta2)\n",
    "\n",
    "    B = 2*np.pi * 500           # (MHz) Strength of Rydberg states interaction\n",
    "    Brr = np.zeros((5,5))\n",
    "    Brr[3][3] = 1\n",
    "    Brr = tensor(B*Qobj(Brr), Qobj(Brr))\n",
    "\n",
    "    H = [[tensor(H_omega1, I) + tensor(I, H_omega1), shape_omega1], [tensor(H_omega2, I) + tensor(I, H_omega2), '1'], [tensor(H_delta1, I) + tensor(I, H_delta1), '1'], [tensor(H_delta2, I) + tensor(I, H_delta2), '1'], [Brr, '1']]\n",
    "\n",
    "    return H\n",
    "\n",
    "\n",
    "\n",
    "\n",
    "#Decay term\n",
    "c_ops = []\n",
    "I = qeye(5)\n",
    "gammar = 1/540      #unit:1/(mu s)         \n",
    "gammap = 1/0.155\n",
    "\n",
    "L0p = np.zeros((5,5))\n",
    "L0p[0][2] = np.sqrt(1/16 * gammap)\n",
    "c_ops.append(tensor(Qobj(L0p), I))\n",
    "c_ops.append(tensor(I, Qobj(L0p)))\n",
    "\n",
    "L0r = np.zeros((5,5))\n",
    "L0r[0][3] = np.sqrt(1/32 * gammar)\n",
    "c_ops.append(tensor(Qobj(L0r), I))\n",
    "c_ops.append(tensor(I, Qobj(L0r)))\n",
    "\n",
    "L1p = np.zeros((5,5))\n",
    "L1p[1][2] = np.sqrt(1/16 * gammap)\n",
    "c_ops.append(tensor(Qobj(L1p), I))\n",
    "c_ops.append(tensor(I, Qobj(L1p)))\n",
    "\n",
    "L1r = np.zeros((5,5))\n",
    "L1r[1][3] = np.sqrt(1/32 * gammar)\n",
    "c_ops.append(tensor(Qobj(L1r), I))\n",
    "c_ops.append(tensor(I, Qobj(L1r)))\n",
    "\n",
    "Ldp = np.zeros((5,5))\n",
    "Ldp[4][2] = np.sqrt(7/8 * gammap)\n",
    "c_ops.append(tensor(Qobj(Ldp), I))\n",
    "c_ops.append(tensor(I, Qobj(Ldp)))\n",
    "\n",
    "Ldr = np.zeros((5,5))\n",
    "Ldr[4][3] = np.sqrt(7/16 * gammar)\n",
    "c_ops.append(tensor(Qobj(Ldr), I))\n",
    "c_ops.append(tensor(I, Qobj(Ldr)))\n",
    "\n",
    "Lpr = np.zeros((5,5))\n",
    "Lpr[2][3] = np.sqrt(1/2 * gammar)\n",
    "c_ops.append(tensor(Qobj(Lpr), I))\n",
    "c_ops.append(tensor(I, Qobj(Lpr)))\n",
    "\n",
    "\n",
    "\n",
    "### Initial state, rhoi() ###\n",
    "def init_state(rhoc, rhot):\n",
    "    return tensor(ket2dm(basis(5,rhoc)), ket2dm(basis(5,rhot)))"
   ]
  },
  {
   "cell_type": "markdown",
   "id": "07ed5de3",
   "metadata": {},
   "source": [
    "\n",
    "# Gate Operation"
   ]
  },
  {
   "cell_type": "code",
   "execution_count": 4,
   "id": "2d1e8130",
   "metadata": {},
   "outputs": [],
   "source": [
    "def Rxy(theta,phi):\n",
    "    f = 1j*np.zeros((5,5))\n",
    "    f[0][0] = np.cos(theta/2)\n",
    "    f[0][1] = 1j*(np.e**(1j*phi))*np.sin(theta/2)\n",
    "    f[1][0] = 1j*(np.e**(-1j*phi))*np.sin(theta/2)\n",
    "    f[1][1] = np.cos(theta/2)\n",
    "    f=Qobj(f)   \n",
    "    return f"
   ]
  },
  {
   "cell_type": "code",
   "execution_count": 5,
   "id": "0f0032ee",
   "metadata": {},
   "outputs": [],
   "source": [
    "def single_qubit_phase(H, psi0, times):\n",
    "    result = sesolve(H, psi0, times)\n",
    "    phase=np.angle(result.states)\n",
    "    phase=np.array(phase)\n",
    "    phase=phase[:,5,0]\n",
    "    single_qubit_phase=phase[-1]\n",
    "\n",
    "    return single_qubit_phase"
   ]
  },
  {
   "cell_type": "code",
   "execution_count": 6,
   "id": "3855cdd7",
   "metadata": {},
   "outputs": [],
   "source": [
    "# Gate operation\n",
    "def GateOp(Pulses, rho_init, targets):\n",
    "    Tg=2.0\n",
    "    point=1000\n",
    "    times = np.linspace(0.0, Tg, point)\n",
    "\n",
    "    beta_series=Pulses['beta_series']\n",
    "    n=Pulses['n']\n",
    "    omega2=Pulses['omega2']\n",
    "    delta1=Pulses['delta1']\n",
    "    delta2=Pulses['delta2']\n",
    "    \n",
    "    shape_omega1 = MS_pulse_shape(times, Tg, beta_series, n)\n",
    "    H=Hamiltonian(shape_omega1, omega2, delta1, delta2)\n",
    "    \n",
    "    psi0=tensor(basis(5,1), basis(5,0))\n",
    "    singleQB_phase=single_qubit_phase(H, psi0, times)\n",
    "    \n",
    "    single_PhaseGate = 1j*np.zeros((5,5))\n",
    "    single_PhaseGate[0][0]=1\n",
    "    single_PhaseGate[1][1]=np.exp(-1j*singleQB_phase)\n",
    "    single_PhaseGate[2][2]=1\n",
    "    single_PhaseGate[3][3]=1\n",
    "    single_PhaseGate[4][4]=1\n",
    "    single_PhaseGate=Qobj(single_PhaseGate)\n",
    "    \n",
    "    SinglePhase_rotation=tensor(single_PhaseGate,single_PhaseGate)\n",
    "    final_gate=tensor(Rxy(3*np.pi/4,singleQB_phase), Rxy(3*np.pi/4,singleQB_phase))\n",
    "    Foperator=final_gate*SinglePhase_rotation*targets*dag(SinglePhase_rotation)*dag(final_gate)\n",
    "    \n",
    "    results = mesolve(H, rho_init, times, c_ops, Foperator, options=Options(nsteps=5000))\n",
    "    return results"
   ]
  },
  {
   "cell_type": "markdown",
   "id": "8cbbba01",
   "metadata": {
    "tags": []
   },
   "source": [
    "# Outpout"
   ]
  },
  {
   "cell_type": "code",
   "execution_count": 7,
   "id": "db90a36c",
   "metadata": {
    "tags": []
   },
   "outputs": [
    {
     "name": "stdout",
     "output_type": "stream",
     "text": [
      "0.9737133283241874\n"
     ]
    }
   ],
   "source": [
    "beta_series = [206.4, 90.1, 300.5, 195.97]  \n",
    "n = [9]\n",
    "omega2 = [50]\n",
    "delta1 = [-5687]\n",
    "delta2 = [1.5]\n",
    "Pulses = {'beta_series': beta_series, 'n': n, 'omega2': omega2, 'delta1': delta1, 'delta2': delta2}\n",
    "PulsesRange = {'beta_series': [0, 400], 'n': [5,11], 'omega2': [10, 100], 'delta1': [-9000, -4000], 'delta2': [-5, 5]}\n",
    "\n",
    "I = qeye(5)\n",
    "bell10 = (1/np.sqrt(2)) * ( tensor(basis(5,0), basis(5,0)) + tensor(basis(5,1), basis(5,1)) )\n",
    "rho_bell10 = ket2dm(bell10)\n",
    "rhoi = tensor(Rxy(np.pi/2,0), Rxy(np.pi/2,0)) * init_state(0,0) * dag(tensor(Rxy(np.pi/2,0), Rxy(np.pi/2,0)))\n",
    "\n",
    "bell_fidelity = fidelity(GateOp) #\n",
    "print(bell_fidelity.get_fidelity(Pulses, rhoi, rho_bell10))\n"
   ]
  },
  {
   "cell_type": "markdown",
   "id": "7c675b36",
   "metadata": {},
   "source": [
    "# Differentail Evolution"
   ]
  },
  {
   "cell_type": "code",
   "execution_count": 8,
   "id": "0d83200e",
   "metadata": {
    "tags": []
   },
   "outputs": [
    {
     "name": "stdout",
     "output_type": "stream",
     "text": [
      "Number of control parameters: 8\n",
      "Populations size: 120\n",
      "Start differential evolution...\n",
      "Iterations: 2\n",
      "Optimized fidelity: 0.4347381921216219\n",
      "==============================\n",
      "# 2 batch iteration.\n",
      "\n",
      "Fidelity (Ci, Di) = 0.028095734100512644 0.07306060788416804, population 59 unchanged\n",
      "Fidelity (Ci, Di) = 0.28428843516937324 0.2523031820512534, replace population 26\n",
      "Fidelity (Ci, Di) = 0.30120665670664737 0.4973540331127361, population 82 unchanged\n",
      "Fidelity (Ci, Di) = 0.20377246401075422 0.36991655297188514, population 114 unchanged\n",
      "Optimized Fidelity: 0.49735403311273617 0.3578155109604349, population 118 unchanged\n",
      "==============================\n"
     ]
    }
   ],
   "source": [
    "K = len(Pulses) \n",
    "diffevo = de(bell_fidelity, rhoi, rho_bell10) \n",
    "diffevo.createPopulations(Pulses, PulsesRange)\n",
    "diffevo.start(itr=2, batch=5)"
   ]
  },
  {
   "cell_type": "code",
   "execution_count": 9,
   "id": "4ab7d3ff-1591-49df-81a7-8f5a0c9ea49c",
   "metadata": {
    "tags": []
   },
   "outputs": [
    {
     "data": {
      "text/plain": [
       "<matplotlib.legend.Legend at 0x7f895cb1d850>"
      ]
     },
     "execution_count": 9,
     "metadata": {},
     "output_type": "execute_result"
    },
    {
     "data": {
      "image/png": "[encoded data removed]",
      "text/plain": [
       "<Figure size 864x576 with 1 Axes>"
      ]
     },
     "metadata": {
      "needs_background": "light"
     },
     "output_type": "display_data"
    }
   ],
   "source": [
    "fig, ax1 = plt.subplots(figsize=(12,8))\n",
    "ax1.plot(diffevo.data_fidelity, label=\"Fi\")\n",
    "\n",
    "ax1.set_xlabel(\"test time\", fontsize=20) \n",
    "ax1.set_ylabel(\"Fidelity\", fontsize=20)\n",
    "\n",
    "fig.legend(bbox_to_anchor=(.84, .68), fontsize=16)"
   ]
  },
  {
   "cell_type": "code",
   "execution_count": 10,
   "id": "0bf36272-644a-43d6-bb7a-057d33b3ee6e",
   "metadata": {},
   "outputs": [],
   "source": [
    "testnpy = np.load(\"out.npz\")"
   ]
  },
  {
   "cell_type": "code",
   "execution_count": 11,
   "id": "381da0b9-6b4c-4614-88d8-161dc030a5b1",
   "metadata": {},
   "outputs": [
    {
     "name": "stdout",
     "output_type": "stream",
     "text": [
      "{'beta_series': array([ 38.05354143, 144.86991869,  59.21827993, 190.24124027]), 'n': array([5.92606416]), 'omega2': array([38.48752005]), 'delta1': array([-5113.93080048]), 'delta2': array([-3.30998779])}\n"
     ]
    }
   ],
   "source": [
    "print(diffevo.op_pulse)"
   ]
  },
  {
   "cell_type": "code",
   "execution_count": 12,
   "id": "f5c13c6a",
   "metadata": {},
   "outputs": [
    {
     "name": "stdout",
     "output_type": "stream",
     "text": [
      "0.4973540331127361\n"
     ]
    }
   ],
   "source": [
    "print(diffevo.op_fidelity)"
   ]
  },
  {
   "cell_type": "code",
   "execution_count": null,
   "id": "c3345c81",
   "metadata": {},
   "outputs": [],
   "source": []
  }
 ],
 "metadata": {
  "kernelspec": {
   "display_name": "Python 3 (ipykernel)",
   "language": "python",
   "name": "python3"
  },
  "language_info": {
   "codemirror_mode": {
    "name": "ipython",
    "version": 3
   },
   "file_extension": ".py",
   "mimetype": "text/x-python",
   "name": "python",
   "nbconvert_exporter": "python",
   "pygments_lexer": "ipython3",
   "version": "3.9.7"
  }
 },
 "nbformat": 4,
 "nbformat_minor": 5
}
