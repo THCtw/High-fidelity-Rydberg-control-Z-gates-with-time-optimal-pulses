{
 "cells": [
  {
   "cell_type": "code",
   "execution_count": null,
   "id": "4feb9d17-f3c4-41eb-bb68-60a74911589a",
   "metadata": {},
   "outputs": [],
   "source": [
    "from qutip import *\n",
    "import math\n",
    "\n",
    "import numpy as np\n",
    "import matplotlib.pyplot as plt\n",
    "from IPython.display import display, clear_output\n",
    "\n",
    "from pulseShape import Saffman_shape\n",
    "from fidelity import fidelity\n",
    "from optimize.de import de"
   ]
  },
  {
   "cell_type": "markdown",
   "id": "6312f63e-8118-47ef-bec3-bbec479922c9",
   "metadata": {
    "tags": []
   },
   "source": [
    "# Physical system"
   ]
  },
  {
   "cell_type": "code",
   "execution_count": null,
   "id": "75003d47",
   "metadata": {},
   "outputs": [],
   "source": [
    "### Hamiltonian ###\n",
    "def Hamiltonian(shape_omega1, shape_omega2, shape_delta1):\n",
    "    rho = []    # 0, 1, p, r, d\n",
    "    for i in range(5):\n",
    "        rho.append(ket2dm(basis(5,i)))\n",
    "\n",
    "    I = qeye(5)\n",
    "\n",
    "    H_omega1 = np.zeros((5,5))\n",
    "    H_omega1[2][1] = 2*np.pi / 2\n",
    "    H_omega1[1][2] = 2*np.pi / 2\n",
    "    H_omega1 = Qobj(H_omega1)\n",
    "\n",
    "    H_omega2 = np.zeros((5,5))\n",
    "    H_omega2[3][2] = 2*np.pi / 2\n",
    "    H_omega2[2][3] = 2*np.pi / 2\n",
    "    H_omega2 = Qobj(H_omega2)\n",
    "\n",
    "    H_delta1 = np.zeros((5,5))\n",
    "    H_delta1[2][2] = 2*np.pi\n",
    "    H_delta1 = Qobj(H_delta1)\n",
    "\n",
    "    B = 2*np.pi * 500           # (MHz) Strength of Rydberg states interaction\n",
    "    Brr = np.zeros((5,5))\n",
    "    Brr[3][3] = np.sqrt(B)\n",
    "    Brr = tensor(Qobj(Brr), Qobj(Brr))\n",
    "\n",
    "    H = [[tensor(H_omega1, I) + tensor(I, H_omega1), shape_omega1], [tensor(H_omega2, I) + tensor(I, H_omega2), shape_omega2], \n",
    "        [tensor(H_delta1, I) + tensor(I, H_delta1), shape_delta1], [Brr, '1']]\n",
    "\n",
    "    return H\n",
    "\n",
    "\n",
    "### Pulse shape omega1(t), omega2(t) and delta1(t) ###\n",
    "def PulseShape(times, Pulses, T_gate, n_seg):\n",
    "    Omega1 = Pulses[:6]\n",
    "    Omega2 = Pulses[6:12]\n",
    "    Delta1 = Pulses[12:]\n",
    "\n",
    "    def shape_omega1(t, arg):\n",
    "        return Saffman_shape(t, Omega1, T_gate, n_seg)\n",
    "\n",
    "    def shape_omega2(t, arg):\n",
    "        return Saffman_shape(t, Omega2, T_gate, n_seg)\n",
    "\n",
    "    # Shape of detunning delta1(t)\n",
    "    def shape_delta1(t, arg):\n",
    "        return Saffman_shape(t, Delta1, T_gate, n_seg)\n",
    "    \n",
    "    return shape_omega1, shape_omega2, shape_delta1\n",
    "\n",
    "\n",
    "### Decay term, c_ops ###\n",
    "def Decay(gammap=1/0.155, gammar=1/540):\n",
    "    # gammap: (1/mu s) population decay rate of the Rydberg state\n",
    "    # gammar: (1/mu s) population decay rate of the P state\n",
    "    c_ops = []\n",
    "    I = qeye(5)\n",
    "\n",
    "    L0p = np.zeros((5,5))\n",
    "    L0p[0][2] = np.sqrt(1/16 * gammap)\n",
    "    c_ops.append(tensor(Qobj(L0p), I))\n",
    "    c_ops.append(tensor(I, Qobj(L0p)))\n",
    "\n",
    "    L0r = np.zeros((5,5))\n",
    "    L0r[0][3] = np.sqrt(1/32 * gammar)\n",
    "    c_ops.append(tensor(Qobj(L0r), I))\n",
    "    c_ops.append(tensor(I, Qobj(L0r)))\n",
    "\n",
    "    L1p = np.zeros((5,5))\n",
    "    L1p[1][2] = np.sqrt(1/16 * gammap)\n",
    "    c_ops.append(tensor(Qobj(L1p), I))\n",
    "    c_ops.append(tensor(I, Qobj(L1p)))\n",
    "\n",
    "    L1r = np.zeros((5,5))\n",
    "    L1r[1][3] = np.sqrt(1/32 * gammar)\n",
    "    c_ops.append(tensor(Qobj(L1r), I))\n",
    "    c_ops.append(tensor(I, Qobj(L1r)))\n",
    "\n",
    "    Ldp = np.zeros((5,5))\n",
    "    Ldp[4][2] = np.sqrt(7/8 * gammap)\n",
    "    c_ops.append(tensor(Qobj(Ldp), I))\n",
    "    c_ops.append(tensor(I, Qobj(Ldp)))\n",
    "\n",
    "    Ldr = np.zeros((5,5))\n",
    "    Ldr[4][3] = np.sqrt(7/16 * gammar)\n",
    "    c_ops.append(tensor(Qobj(Ldr), I))\n",
    "    c_ops.append(tensor(I, Qobj(Ldr)))\n",
    "\n",
    "    Lpr = np.zeros((5,5))\n",
    "    Lpr[2][3] = np.sqrt(1/2 * gammar)\n",
    "    c_ops.append(tensor(Qobj(Lpr), I))\n",
    "    c_ops.append(tensor(I, Qobj(Lpr)))\n",
    "\n",
    "    return c_ops\n",
    "\n",
    "\n",
    "### Initial state, rhoi() ###\n",
    "def init_state(rhoc, rhot):\n",
    "    return tensor(ket2dm(basis(5,rhoc)), ket2dm(basis(5,rhot)))"
   ]
  },
  {
   "cell_type": "markdown",
   "id": "07ed5de3",
   "metadata": {},
   "source": [
    "# Gate Operation"
   ]
  },
  {
   "cell_type": "code",
   "execution_count": null,
   "id": "3855cdd7",
   "metadata": {},
   "outputs": [],
   "source": [
    "# Gate operation\n",
    "def GateOp(Pulses, rho_init, targets):\n",
    "    times = np.linspace(0.0, 1, 100)\n",
    "    T_gate = 1              # (mu s) Total gate time\n",
    "    n_seg = 2*len(Omega1)   # Number of segments\n",
    "\n",
    "    shape_omega1, shape_omega2, shape_delta1 = PulseShape(times, Pulses, T_gate, n_seg)\n",
    "    H = Hamiltonian(shape_omega1, shape_omega2, shape_delta1)\n",
    "    c_ops = Decay(1/0.155, 1/540)\n",
    "    \n",
    "    results = mesolve(H, rho_init, times, c_ops, targets, options=Options(nsteps=10000))\n",
    "    return results"
   ]
  },
  {
   "cell_type": "markdown",
   "id": "8cbbba01",
   "metadata": {},
   "source": [
    "# Outpout"
   ]
  },
  {
   "cell_type": "code",
   "execution_count": null,
   "id": "db90a36c",
   "metadata": {},
   "outputs": [],
   "source": [
    "Omega1 = [1.38, 10.30, 25.54, 42.85, 82.50, 93.35]\n",
    "Omega2 = [165.09, 199.99, 198.14, 198.87, 200.00, 173.48]\n",
    "Delta1 = [392.57, 363.48, 364.36, 360.99, 416.45, 420.39]\n",
    "Pulses = Omega1 + Omega2 + Delta1\n",
    "\n",
    "Had = np.zeros((5,5))\n",
    "Had[0][0] = 1\n",
    "Had[0][1] = 1\n",
    "Had[1][0] = 1\n",
    "Had[1][1] = -1\n",
    "\n",
    "I = qeye(5)\n",
    "Had = Qobj(Had/np.sqrt(2))\n",
    "bell10 = (1/np.sqrt(2)) * ( tensor(basis(5,0), basis(5,1)) + tensor(basis(5,1), basis(5,0)) )\n",
    "\n",
    "rho_bell10 = tensor(I, Had) * ket2dm(bell10) * tensor(I, Had)\n",
    "rhoi = tensor(Had, Had) * init_state(0,1) * tensor(Had, Had)\n",
    "\n",
    "bell_fidelity = fidelity(GateOp, rhoi, rho_bell10)\n",
    "print(bell_fidelity.get_fidelity(Pulses))"
   ]
  },
  {
   "cell_type": "markdown",
   "id": "7c675b36",
   "metadata": {},
   "source": [
    "Differentail Evolution"
   ]
  },
  {
   "cell_type": "code",
   "execution_count": null,
   "id": "0d83200e",
   "metadata": {},
   "outputs": [],
   "source": [
    "K = len(Pulses)\n",
    "diffevo = de(bell_fidelity, K, 0, 500)\n",
    "diffevo.start(100000)"
   ]
  }
 ],
 "metadata": {
  "kernelspec": {
   "display_name": "Python 3",
   "language": "python",
   "name": "python3"
  },
  "language_info": {
   "codemirror_mode": {
    "name": "ipython",
    "version": 3
   },
   "file_extension": ".py",
   "mimetype": "text/x-python",
   "name": "python",
   "nbconvert_exporter": "python",
   "pygments_lexer": "ipython3",
   "version": "3.9.7"
  }
 },
 "nbformat": 4,
 "nbformat_minor": 5
}
