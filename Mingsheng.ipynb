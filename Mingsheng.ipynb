{
 "cells": [
  {
   "cell_type": "markdown",
   "id": "d0ab2839-de9e-49ae-88de-f5519e2b1d52",
   "metadata": {},
   "source": [
    "# Fu, Zhuo, et al. \"High fidelity entanglement of neutral atoms via a Rydberg-mediated single-modulated-pulse controlled-PHASE gate.\" arXiv preprint arXiv:2109.02491 (2021)."
   ]
  },
  {
   "cell_type": "code",
   "execution_count": 1,
   "id": "be010a6c-aefc-48ac-853b-7206a281b95a",
   "metadata": {},
   "outputs": [],
   "source": [
    "from qutip import *\n",
    "import math\n",
    "\n",
    "import numpy as np\n",
    "import matplotlib.pyplot as plt\n",
    "from IPython.display import display, clear_output\n",
    "\n",
    "from pulseShape import Saffman_shape\n",
    "from fidelity import fidelity\n",
    "from optimize.de import de\n",
    "from quantumDy import quantumDy"
   ]
  },
  {
   "cell_type": "markdown",
   "id": "004a96e8-d69f-4cfe-b7a9-1678b9d2f38a",
   "metadata": {
    "tags": []
   },
   "source": [
    "# Physical system"
   ]
  },
  {
   "cell_type": "code",
   "execution_count": 2,
   "id": "63178dc3-2739-426a-9066-74c53c715696",
   "metadata": {},
   "outputs": [
    {
     "name": "stdout",
     "output_type": "stream",
     "text": [
      "Quantum object: dims = [[4, 1], [1, 4]], shape = (4, 4), type = oper, isherm = False\n",
      "Qobj data =\n",
      "[[0. 0. 0. 0.]\n",
      " [0. 0. 0. 0.]\n",
      " [0. 0. 0. 0.]\n",
      " [1. 0. 0. 0.]]\n"
     ]
    }
   ],
   "source": [
    "qd = quantumDy(4)\n",
    "result = qd.transition(0,3)\n",
    "\n",
    "print(result)"
   ]
  },
  {
   "cell_type": "code",
   "execution_count": null,
   "id": "2a197018-e37b-4ce9-9a74-574c077dbe13",
   "metadata": {},
   "outputs": [],
   "source": [
    "### Hamiltonian ###\n",
    "def Hamiltonian(shape_omegas, shape_delta):\n",
    "    # 0, 1, p, r\n",
    "    qd = quantumDy(4)\n",
    "\n",
    "    I = qeye(4)\n",
    "\n",
    "    H_omega1 = np.zeros((5,5))\n",
    "    H_omega1[2][1] = 2*np.pi / 2\n",
    "    H_omega1[1][2] = 2*np.pi / 2\n",
    "    H_omega1 = Qobj(H_omega1)\n",
    "\n",
    "    H_omega2 = np.zeros((5,5))\n",
    "    H_omega2[3][2] = 2*np.pi / 2\n",
    "    H_omega2[2][3] = 2*np.pi / 2\n",
    "    H_omega2 = Qobj(H_omega2)\n",
    "\n",
    "    H_delta1 = np.zeros((5,5))\n",
    "    H_delta1[2][2] = 2*np.pi\n",
    "    H_delta1 = Qobj(H_delta1)\n",
    "\n",
    "    B = 2*np.pi * 500           # (MHz) Strength of Rydberg states interaction\n",
    "    Brr = np.zeros((5,5))\n",
    "    Brr[3][3] = np.sqrt(B)\n",
    "    Brr = tensor(Qobj(Brr), Qobj(Brr))\n",
    "\n",
    "    # H01 & H10\n",
    "    H01 = 1/2 qd.transition(0,3)\n",
    "    \n",
    "    # H00\n",
    "    H = H01 + H10 + H00\n",
    "\n",
    "    return H\n",
    "\n",
    "\n",
    "### Pulse shape omega1(t), omega2(t) and delta1(t) ###\n",
    "def PulseShape(times, Pulses, T_gate, n_seg):\n",
    "    Omega1 = Pulses[:6]\n",
    "    Omega2 = Pulses[6:12]\n",
    "    Delta1 = Pulses[12:]\n",
    "\n",
    "    def shape_omega1(t, arg):\n",
    "        return Saffman_shape(t, Omega1, T_gate, n_seg)\n",
    "\n",
    "    def shape_omega2(t, arg):\n",
    "        return Saffman_shape(t, Omega2, T_gate, n_seg)\n",
    "\n",
    "    # Shape of detunning delta1(t)\n",
    "    def shape_delta1(t, arg):\n",
    "        return Saffman_shape(t, Delta1, T_gate, n_seg)\n",
    "    \n",
    "    return shape_omega1, shape_omega2, shape_delta1\n",
    "\n",
    "\n",
    "### Decay term, c_ops ###\n",
    "def Decay(gammap=1/0.155, gammar=1/540):\n",
    "    # gammap: (1/mu s) population decay rate of the Rydberg state\n",
    "    # gammar: (1/mu s) population decay rate of the P state\n",
    "    c_ops = []\n",
    "    I = qeye(5)\n",
    "\n",
    "    L0p = np.zeros((5,5))\n",
    "    L0p[0][2] = np.sqrt(1/16 * gammap)\n",
    "    c_ops.append(tensor(Qobj(L0p), I))\n",
    "    c_ops.append(tensor(I, Qobj(L0p)))\n",
    "\n",
    "    L0r = np.zeros((5,5))\n",
    "    L0r[0][3] = np.sqrt(1/32 * gammar)\n",
    "    c_ops.append(tensor(Qobj(L0r), I))\n",
    "    c_ops.append(tensor(I, Qobj(L0r)))\n",
    "\n",
    "    L1p = np.zeros((5,5))\n",
    "    L1p[1][2] = np.sqrt(1/16 * gammap)\n",
    "    c_ops.append(tensor(Qobj(L1p), I))\n",
    "    c_ops.append(tensor(I, Qobj(L1p)))\n",
    "\n",
    "    L1r = np.zeros((5,5))\n",
    "    L1r[1][3] = np.sqrt(1/32 * gammar)\n",
    "    c_ops.append(tensor(Qobj(L1r), I))\n",
    "    c_ops.append(tensor(I, Qobj(L1r)))\n",
    "\n",
    "    Ldp = np.zeros((5,5))\n",
    "    Ldp[4][2] = np.sqrt(7/8 * gammap)\n",
    "    c_ops.append(tensor(Qobj(Ldp), I))\n",
    "    c_ops.append(tensor(I, Qobj(Ldp)))\n",
    "\n",
    "    Ldr = np.zeros((5,5))\n",
    "    Ldr[4][3] = np.sqrt(7/16 * gammar)\n",
    "    c_ops.append(tensor(Qobj(Ldr), I))\n",
    "    c_ops.append(tensor(I, Qobj(Ldr)))\n",
    "\n",
    "    Lpr = np.zeros((5,5))\n",
    "    Lpr[2][3] = np.sqrt(1/2 * gammar)\n",
    "    c_ops.append(tensor(Qobj(Lpr), I))\n",
    "    c_ops.append(tensor(I, Qobj(Lpr)))\n",
    "\n",
    "    return c_ops\n",
    "\n",
    "\n",
    "### Initial state, rhoi() ###\n",
    "def init_state(rhoc, rhot):\n",
    "    return tensor(ket2dm(basis(5,rhoc)), ket2dm(basis(5,rhot)))"
   ]
  }
 ],
 "metadata": {
  "kernelspec": {
   "display_name": "Python 3",
   "language": "python",
   "name": "python3"
  },
  "language_info": {
   "codemirror_mode": {
    "name": "ipython",
    "version": 3
   },
   "file_extension": ".py",
   "mimetype": "text/x-python",
   "name": "python",
   "nbconvert_exporter": "python",
   "pygments_lexer": "ipython3",
   "version": "3.9.7"
  }
 },
 "nbformat": 4,
 "nbformat_minor": 5
}
